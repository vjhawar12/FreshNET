{
  "cells": [
    {
      "cell_type": "markdown",
      "metadata": {
        "id": "view-in-github",
        "colab_type": "text"
      },
      "source": [
        "<a href=\"https://colab.research.google.com/github/vjhawar12/FreshNET/blob/main/FreshNET.ipynb\" target=\"_parent\"><img src=\"https://colab.research.google.com/assets/colab-badge.svg\" alt=\"Open In Colab\"/></a>"
      ]
    },
    {
      "cell_type": "code",
      "execution_count": 1,
      "metadata": {
        "id": "mAMnjodkV40K"
      },
      "outputs": [],
      "source": [
        "from google.cloud import storage"
      ]
    },
    {
      "cell_type": "code",
      "source": [
        "!pip install google-cloud-storage-transfer"
      ],
      "metadata": {
        "id": "osneMgPWhV3r"
      },
      "execution_count": null,
      "outputs": []
    },
    {
      "cell_type": "code",
      "execution_count": 3,
      "metadata": {
        "colab": {
          "base_uri": "https://localhost:8080/"
        },
        "id": "Alk1zOb8RrpQ",
        "outputId": "dbc84b5a-4178-4510-a7e5-76f950ee4c0d"
      },
      "outputs": [
        {
          "output_type": "stream",
          "name": "stdout",
          "text": [
            "Downloading from https://www.kaggle.com/api/v1/datasets/download/swoyam2609/fresh-and-stale-classification?dataset_version_number=1...\n"
          ]
        },
        {
          "output_type": "stream",
          "name": "stderr",
          "text": [
            "100%|██████████| 2.84G/2.84G [00:29<00:00, 104MB/s]"
          ]
        },
        {
          "output_type": "stream",
          "name": "stdout",
          "text": [
            "Extracting files...\n"
          ]
        },
        {
          "output_type": "stream",
          "name": "stderr",
          "text": [
            "\n"
          ]
        },
        {
          "output_type": "stream",
          "name": "stdout",
          "text": [
            "Path to dataset files: /root/.cache/kagglehub/datasets/swoyam2609/fresh-and-stale-classification/versions/1\n"
          ]
        }
      ],
      "source": [
        "import kagglehub\n",
        "\n",
        "# Download latest version\n",
        "path = kagglehub.dataset_download(\"swoyam2609/fresh-and-stale-classification\")\n",
        "\n",
        "print(\"Path to dataset files:\", path)"
      ]
    },
    {
      "cell_type": "code",
      "execution_count": 22,
      "metadata": {
        "colab": {
          "base_uri": "https://localhost:8080/"
        },
        "id": "e-PHTaVBR0iA",
        "outputId": "aa980b02-5e50-4078-c028-739c87dfdc3d"
      },
      "outputs": [
        {
          "output_type": "stream",
          "name": "stdout",
          "text": [
            "freshapples    freshokra     freshtamto    rottencucumber  rottenpatato\n",
            "freshbanana    freshoranges  rottenapples  rottenokra\t   rottentamto\n",
            "freshcucumber  freshpatato   rottenbanana  rottenoranges\n"
          ]
        }
      ],
      "source": [
        "!cd /root/.cache/kagglehub/datasets/swoyam2609/fresh-and-stale-classification/versions/1/dataset/Test && ls"
      ]
    },
    {
      "cell_type": "code",
      "source": [
        "! cd /content/dataset/Test/ && mkdir /content/dataset/Test/fresh && mkdir /content/dataset/Test/rotten && ls"
      ],
      "metadata": {
        "colab": {
          "base_uri": "https://localhost:8080/"
        },
        "id": "ZP4Y0EVpNChS",
        "outputId": "91ac3085-113b-4fee-acd3-faa00c6e5e44"
      },
      "execution_count": 33,
      "outputs": [
        {
          "output_type": "stream",
          "name": "stdout",
          "text": [
            "fresh\t       freshokra     rotten\t     rottenokra\n",
            "freshapples    freshoranges  rottenapples    rottenoranges\n",
            "freshbanana    freshpatato   rottenbanana    rottenpatato\n",
            "freshcucumber  freshtamto    rottencucumber  rottentamto\n"
          ]
        }
      ]
    },
    {
      "cell_type": "code",
      "source": [
        "!mv /content/dataset/Test/fresh* /content/dataset/Test/fresh && cd /content/Dataset/Test && ls"
      ],
      "metadata": {
        "id": "l4XPv9MCPGEu"
      },
      "execution_count": null,
      "outputs": []
    },
    {
      "cell_type": "code",
      "source": [
        "!mv /content/dataset/Train/fresh* /content/dataset/Train/fresh && cd /content/Dataset/Train && ls"
      ],
      "metadata": {
        "colab": {
          "base_uri": "https://localhost:8080/"
        },
        "id": "PRuPUGKbSHrm",
        "outputId": "7bbd763e-c35c-4448-a2c6-5366b6b9f5d2"
      },
      "execution_count": 52,
      "outputs": [
        {
          "output_type": "stream",
          "name": "stdout",
          "text": [
            "mv: target '/content/dataset/Train/fresh' is not a directory\n"
          ]
        }
      ]
    },
    {
      "cell_type": "code",
      "source": [
        "!cd /content/dataset/Test/ && ls"
      ],
      "metadata": {
        "colab": {
          "base_uri": "https://localhost:8080/"
        },
        "id": "ucbpWDMKOpAA",
        "outputId": "f3425382-34ff-4e6e-8332-2bf8ac8df660"
      },
      "execution_count": 35,
      "outputs": [
        {
          "output_type": "stream",
          "name": "stdout",
          "text": [
            "fresh\trottenapples  rottencucumber  rottenoranges  rottentamto\n",
            "rotten\trottenbanana  rottenokra      rottenpatato\n"
          ]
        }
      ]
    },
    {
      "cell_type": "code",
      "source": [
        "!mv /content/dataset/Test/rotten* /content/dataset/Test/rotten && cd /content/Dataset/Test && ls"
      ],
      "metadata": {
        "colab": {
          "base_uri": "https://localhost:8080/"
        },
        "id": "1vF5QTsMO9WY",
        "outputId": "912db9db-d336-4b97-e56d-2159920cd4a0"
      },
      "execution_count": 53,
      "outputs": [
        {
          "output_type": "stream",
          "name": "stdout",
          "text": [
            "mv: cannot move '/content/dataset/Test/rotten' to a subdirectory of itself, '/content/dataset/Test/rotten/rotten'\n"
          ]
        }
      ]
    },
    {
      "cell_type": "code",
      "source": [
        "!cd /content/dataset/Test/ && ls"
      ],
      "metadata": {
        "colab": {
          "base_uri": "https://localhost:8080/"
        },
        "id": "nfIyDapfPFNQ",
        "outputId": "b83ed3ee-d23c-4840-c1fc-042d17e014a8"
      },
      "execution_count": 37,
      "outputs": [
        {
          "output_type": "stream",
          "name": "stdout",
          "text": [
            "fresh  rotten\n"
          ]
        }
      ]
    },
    {
      "cell_type": "code",
      "source": [
        "!cd /content/dataset/Test/fresh/freshapples && ls"
      ],
      "metadata": {
        "id": "bjRXX3rlPJ60"
      },
      "execution_count": 48,
      "outputs": []
    },
    {
      "cell_type": "code",
      "source": [
        "!mv /content/dataset/Test/fresh/fresh*/* /content/dataset/Test/fresh"
      ],
      "metadata": {
        "id": "8UzNo0TEPPHp"
      },
      "execution_count": 46,
      "outputs": []
    },
    {
      "cell_type": "code",
      "source": [
        "!mv /content/dataset/Train/fresh/fresh*/* /content/dataset/Train/fresh"
      ],
      "metadata": {
        "colab": {
          "base_uri": "https://localhost:8080/"
        },
        "id": "dm-T64uZR7Jw",
        "outputId": "bfe74b58-80d0-418b-9005-65148933ed02"
      },
      "execution_count": 49,
      "outputs": [
        {
          "output_type": "stream",
          "name": "stdout",
          "text": [
            "mv: cannot stat '/content/dataset/Train/fresh/fresh*/*': No such file or directory\n"
          ]
        }
      ]
    },
    {
      "cell_type": "code",
      "source": [
        "!mv /content/dataset/Test/rotten/rotten*/* /content/dataset/Test/rotten"
      ],
      "metadata": {
        "id": "QuV9Be8DR4zw"
      },
      "execution_count": 50,
      "outputs": []
    },
    {
      "cell_type": "code",
      "source": [
        "!mv /content/dataset/Train/rotten/rotten*/* /content/dataset/Train/rotten"
      ],
      "metadata": {
        "colab": {
          "base_uri": "https://localhost:8080/"
        },
        "id": "LHim-CEpR80y",
        "outputId": "6ab52e70-f86d-4466-dff7-cdab82419c95"
      },
      "execution_count": 51,
      "outputs": [
        {
          "output_type": "stream",
          "name": "stdout",
          "text": [
            "mv: cannot stat '/content/dataset/Train/rotten/rotten*/*': No such file or directory\n"
          ]
        }
      ]
    },
    {
      "cell_type": "code",
      "source": [
        "!mv /root/.cache/kagglehub/datasets/swoyam2609/fresh-and-stale-classification/versions/1/dataset/* /content/dataset/"
      ],
      "metadata": {
        "id": "g6awV1xTM9UN"
      },
      "execution_count": 24,
      "outputs": []
    },
    {
      "cell_type": "code",
      "execution_count": 31,
      "metadata": {
        "colab": {
          "base_uri": "https://localhost:8080/"
        },
        "id": "tBAPWxBiWgPH",
        "outputId": "2b907e86-7003-46f5-b9c0-c5c2005a625f"
      },
      "outputs": [
        {
          "output_type": "stream",
          "name": "stdout",
          "text": [
            "Go to the following link in your browser, and complete the sign-in prompts:\n",
            "\n",
            "    https://accounts.google.com/o/oauth2/auth?response_type=code&client_id=764086051850-6qr4p6gpi6hn506pt8ejuq83di341hur.apps.googleusercontent.com&redirect_uri=https%3A%2F%2Fsdk.cloud.google.com%2Fapplicationdefaultauthcode.html&scope=openid+https%3A%2F%2Fwww.googleapis.com%2Fauth%2Fuserinfo.email+https%3A%2F%2Fwww.googleapis.com%2Fauth%2Fcloud-platform+https%3A%2F%2Fwww.googleapis.com%2Fauth%2Fsqlservice.login&state=v7Zjtr1vVncHBN5D2Zf8mrOLRBULYy&prompt=consent&token_usage=remote&access_type=offline&code_challenge=dDZVfqWe-y2qRf9dORM8khVZEBxeia3P-hDFIItuRQU&code_challenge_method=S256\n",
            "\n",
            "Once finished, enter the verification code provided in your browser: 4/0AVMBsJhShg3UUSatwNuK1-VDb0U_TPrhiGMlXMVkOtj2PwC8g9mSwXy91Tcm3mKA9YGNaA\n",
            "\n",
            "Credentials saved to file: [/content/.config/application_default_credentials.json]\n",
            "\n",
            "These credentials will be used by any library that requests Application Default Credentials (ADC).\n",
            "\u001b[1;33mWARNING:\u001b[0m \n",
            "Cannot find a quota project to add to ADC. You might receive a \"quota exceeded\" or \"API not enabled\" error. Run $ gcloud auth application-default set-quota-project to add a quota project.\n"
          ]
        }
      ],
      "source": [
        "!gcloud auth application-default login"
      ]
    },
    {
      "cell_type": "code",
      "source": [
        "!gcloud config set project freshnet-466505"
      ],
      "metadata": {
        "colab": {
          "base_uri": "https://localhost:8080/"
        },
        "id": "6I26bJ0bd0ck",
        "outputId": "a2d2af59-deee-446d-ec79-dee980e9b77b"
      },
      "execution_count": 32,
      "outputs": [
        {
          "output_type": "stream",
          "name": "stdout",
          "text": [
            "\u001b[1;33mWARNING:\u001b[0m Your active project does not match the quota project in your local Application Default Credentials file. This might result in unexpected quota issues.\n",
            "\n",
            "To update your Application Default Credentials quota project, use the `gcloud auth application-default set-quota-project` command.\n",
            "Updated property [core/project].\n"
          ]
        }
      ]
    },
    {
      "cell_type": "code",
      "source": [
        "def upload(project_id, source_folder, destination_folder):\n",
        "  pass"
      ],
      "metadata": {
        "id": "sUBGI4oVNhwS"
      },
      "execution_count": null,
      "outputs": []
    },
    {
      "cell_type": "code",
      "execution_count": null,
      "metadata": {
        "id": "CCklxWWxWTFc"
      },
      "outputs": [],
      "source": [
        "upload(\"fruit-images-freshnet\", \"/content/dataset/Test/fresh\", \"test/fresh/\")"
      ]
    }
  ],
  "metadata": {
    "colab": {
      "provenance": [],
      "authorship_tag": "ABX9TyNifNX6q6CxSVjZDsFVGopc",
      "include_colab_link": true
    },
    "kernelspec": {
      "display_name": "Python 3",
      "name": "python3"
    },
    "language_info": {
      "name": "python"
    }
  },
  "nbformat": 4,
  "nbformat_minor": 0
}